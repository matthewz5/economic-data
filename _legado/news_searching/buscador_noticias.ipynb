{
 "cells": [
  {
   "cell_type": "markdown",
   "metadata": {},
   "source": [
    "📦 Importação de Bibliotecas"
   ]
  },
  {
   "cell_type": "code",
   "execution_count": 23,
   "metadata": {},
   "outputs": [],
   "source": [
    "import justext \n",
    "#  Identificar e extrair texto significativo de páginas HTML\n",
    "# eliminando partes irrelevantes como menus e rodapés\n",
    "import requests\n",
    "#  Fazer requisições HTTP para obter conteúdo de páginas da web\n",
    "from datetime import datetime"
   ]
  },
  {
   "cell_type": "markdown",
   "metadata": {},
   "source": [
    "🌐 Realiza a consulta ao site\n"
   ]
  },
  {
   "cell_type": "code",
   "execution_count": 24,
   "metadata": {},
   "outputs": [],
   "source": [
    "conteudo_site = requests.get(\n",
    "    'https://www.suno.com.br/noticias/',\n",
    "    headers={'User-Agent': 'Mozilla/5.0 (Windows NT 10.0; rv:91.0) Gecko/20100101 Firefox/91.0'}\n",
    ").text\n",
    "\n",
    "# User-Agent >> simula um navegador legítimo e evita bloqueios do server ao acessar"
   ]
  },
  {
   "cell_type": "markdown",
   "metadata": {},
   "source": [
    "📋 Extração de textos relevantes"
   ]
  },
  {
   "cell_type": "code",
   "execution_count": 25,
   "metadata": {},
   "outputs": [],
   "source": [
    "news = []\n",
    "\n",
    "texts = justext.justext(conteudo_site, justext.get_stoplist('Portuguese'))\n",
    "\n",
    "for paragraph in texts:\n",
    "    txt = paragraph.text\n",
    "    if len(txt) >= 50:\n",
    "        news.append(txt)"
   ]
  },
  {
   "cell_type": "markdown",
   "metadata": {},
   "source": [
    "📤 Exibição das notícias"
   ]
  },
  {
   "cell_type": "code",
   "execution_count": 26,
   "metadata": {},
   "outputs": [
    {
     "name": "stdout",
     "output_type": "stream",
     "text": [
      "Notícias via Suno - 02/12/2024 \n",
      "\n",
      "- Dólar renova máxima histórica de fechamento; veja motivos\n",
      "- Ibovespa fecha em queda com grandes bancos; dólar renova máxima histórica\n",
      "- SNFZ11 tem performance positiva e reforça estratégia de preservar recursos\n",
      "- Vale (VALE3): entenda o que esperar do novo plano estratégico\n",
      "- Banco do Brasil (BBAS3): XP indica compra de olho em dividendos\n",
      "- Ibovespa terá rali de final de ano? Veja opinião do BBA\n",
      "- Dividendos extraordinários do MXRF11 vêm aí? Entenda\n",
      "- MXRF11 divulga novos dividendos e valor é 11% maior; veja quanto\n",
      "- Itaúsa (ITSA4) vai bonificar acionistas em aumento de capital\n",
      "- Copel (CPLE6) anuncia dividendos extraordinários; veja valor\n",
      "- Vale (VALE3) aprova pagamento de JCP; confira valor\n",
      "- 10 ações que pagam dividendos acima da taxa Selic a 11,25%\n",
      "- Qual o melhor investimento na renda fixa: Tesouro Direto, ETFs ou títulos privados?\n",
      "- Renda Fixa na bolsa de valores? Conheça os ETFs de renda fixa\n",
      "- Negócios Bradesco (BBDC4), Itaú (ITUB4) e mais pagam dividendos hoje\n",
      "- Negócios Dividendos: veja as datas de corte e quem vai pagar proventos na semana\n",
      "- Negócios MXRF11 divulga novos dividendos e valor é 11% maior; veja quanto\n",
      "- Negócios Vale (VALE3) aprova pagamento de JCP; confira valor\n",
      "- Finanças Pessoais Dá para viver de renda com R$ 1 milhão? Saiba como se organizar\n",
      "- Finanças Pessoais Dividendos: quanto investir para receber R$ 5 mil por mês?\n",
      "- Negócios Investir em CDB é uma boa opção para ter renda passiva?\n",
      "- Negócios Previdência VGBL é uma boa opção para renda fixa?\n",
      "- Dados atualizados em 02/12/2024 18:14. Atraso de 15 minutos.\n",
      "- Negócios Petrobras (PETR4) sobe mais de 7% em um mês: entenda por quê\n",
      "- Negócios Morgan Stanley rebaixa Ibovespa. O que isso significa?\n",
      "- Negócios Selic deve continuar subindo, indica Copom. E agora?\n",
      "- Finanças Pessoais Conheça 4 formas de investir no agronegócio; setor pode se beneficiar da alta do dólar\n",
      "- Negócios Fundos imobiliários: veja os FIIs indicados para dezembro de 2024\n",
      "- Dólar renova máxima histórica de fechamento; veja motivos\n",
      "- Fiagros: patrimônio líquido dobra em 12 meses, para R$ 40,9 bi\n",
      "- Vale (VALE3): entenda o que esperar do novo plano estratégico\n",
      "- Mercado Ibovespa fecha em queda com grandes bancos; dólar renova máxima histórica\n",
      "- Ibovespa opera em queda e tenta manter 125 mil pontos; dólar avança\n",
      "- Ibovespa fecha em alta com Vale (VALE3) e Petrobras (PETR4); dólar renova máxima\n",
      "- Ibovespa opera em queda e tenta manter 124 mil pontos; dólar sobe quase 2%\n",
      "- Economia Isenção do Imposto de Renda até R$ 5 mil: entenda como vai funcionar\n",
      "- Petrobras (PETR4) prevê investimento de US$ 111 bilhões\n",
      "- Receita abre consulta a lote da malha fina do Imposto de Renda\n",
      "- Volta do horário de verão é descartada em 2024; MME avalia para o ano que vem\n",
      "- Finanças Pessoais 3 ações para investir após a temporada de balanços (e outras três para ter atenção)\n",
      "- Finanças Pessoais Dólar em alta: saiba quais foram a maior e a menor cotação da moeda na história\n",
      "- Finanças Pessoais Captação líquida de fundos de investimento segue crescendo no Brasil; vale a pena investir?\n",
      "- Finanças Pessoais Dá para viver de renda com R$ 1 milhão? Saiba como se organizar\n",
      "- Política X de volta? Rede social deve pedir liberação nos próximos dias\n",
      "- Rio Grande do Sul: Câmara aprova subvenção de R$ 3 bilhões para mutuários atingidos\n",
      "- STF mantém decisão de suspender o X, antigo Twitter\n",
      "- Alexandre de Moraes determina bloqueio do X no Brasil\n",
      "- Internacional China reafirma que estuda impor tarifas para carros, carnes de porco e laticínios da UE\n",
      "- Google (GOGL34) apresenta queixa formal contra Microsoft (MSFT34) a regulador antitruste da UE\n",
      "- Novas restrições? Governo dos EUA mudará regras de remessas vindas da China\n",
      "- FIIs FII TGAR11 pagará R$ 1,15 em rendimentos; veja detalhes\n",
      "- Cotistas do FII VINO11 receberão R$ 0,05 por cota em dezembro\n",
      "- Fizemos para você uma seleção de 10 livros que todo investidor deveria ler\n",
      "- Entenda como declarar o seu IR sem medo de surpresas com o leão\n",
      "- Aprenda os passos e cuidados na hora de se analisar uma empresa para investir na Bolsa de Valores\n",
      "- Investir em fundos imobiliários é uma das melhores formas de se investir em imóveis.\n",
      "- Conheça o passo a passo para aprender a viver de renda da Bolsa de valores\n",
      "- Avenida Presidente Juscelino Kubitschek, 2041 Torre D, 23º Andar, São Paulo – SP, 04543-011 Copyright 2024 © Suno Research\n",
      "- Receba atualizações diárias sobre o mercado diretamente no seu celular\n"
     ]
    }
   ],
   "source": [
    "data_hoje = datetime.now().date().strftime('%d/%m/%Y')\n",
    "\n",
    "print(f'Notícias via Suno - {data_hoje}', '\\n')\n",
    "for n in news:\n",
    "    print('-', n)"
   ]
  }
 ],
 "metadata": {
  "kernelspec": {
   "display_name": "Python 3",
   "language": "python",
   "name": "python3"
  },
  "language_info": {
   "codemirror_mode": {
    "name": "ipython",
    "version": 3
   },
   "file_extension": ".py",
   "mimetype": "text/x-python",
   "name": "python",
   "nbconvert_exporter": "python",
   "pygments_lexer": "ipython3",
   "version": "3.11.0"
  }
 },
 "nbformat": 4,
 "nbformat_minor": 2
}
