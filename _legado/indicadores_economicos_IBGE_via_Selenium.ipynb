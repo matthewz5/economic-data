{
 "cells": [
  {
   "cell_type": "code",
   "execution_count": 169,
   "metadata": {},
   "outputs": [],
   "source": [
    "from selenium import webdriver\n",
    "from selenium.webdriver.chrome.service import Service\n",
    "from selenium.webdriver.common.by import By\n",
    "from webdriver_manager.chrome import ChromeDriverManager\n",
    "\n",
    "import pandas as pd\n",
    "\n",
    "import ace_tools_open as tools"
   ]
  },
  {
   "cell_type": "markdown",
   "metadata": {},
   "source": [
    "##### Inicializa o navegador"
   ]
  },
  {
   "cell_type": "code",
   "execution_count": 170,
   "metadata": {},
   "outputs": [],
   "source": [
    "driver = webdriver.Chrome()"
   ]
  },
  {
   "cell_type": "markdown",
   "metadata": {},
   "source": [
    "##### Acessa o site do IBGE"
   ]
  },
  {
   "cell_type": "code",
   "execution_count": 171,
   "metadata": {},
   "outputs": [],
   "source": [
    "driver.get(\"https:/www.ibge.gov.br/indicadores.html\")"
   ]
  },
  {
   "cell_type": "markdown",
   "metadata": {},
   "source": [
    "##### Pegando dados dos indicadores via full XPath"
   ]
  },
  {
   "cell_type": "code",
   "execution_count": 172,
   "metadata": {},
   "outputs": [],
   "source": [
    "tabela_xpath = driver.find_element(By.XPATH,\n",
    "                                    \"/html/body/main/section/div[2]/div[2]/div[1]/div/div/table\")"
   ]
  },
  {
   "cell_type": "code",
   "execution_count": 173,
   "metadata": {},
   "outputs": [
    {
     "name": "stdout",
     "output_type": "stream",
     "text": [
      "Indicadores econômicos Último Anterior 12 meses No ano\n",
      "IPCA (%) 0,52 dez 2024 0,39 nov 2024 4,83 4,83\n",
      "INPC (%) 0,48 dez 2024 0,33 nov 2024 4,77 4,77\n",
      "IPCA-15 (%) 0,11 jan 2025 0,34 dez 2024 4,50 0,11\n",
      "IPP (%) 1,23 nov 2024 0,97 out 2024 7,59 7,81\n",
      "Custo do m² (%) 0,21 dez 2024 0,24 nov 2024 3,98 3,98\n",
      "Variação do PIB (%) 4,0 3º tri 2024 3,3 2º tri 2024 3,1 3,3\n",
      "PIB per capita (R$) 47.802,02 2022 42.893,72 2021 - -\n",
      "Indústria (%) -0,6 nov 2024 -0,2 out 2024 3,0 3,2\n",
      "Comércio (%) -0,4 nov 2024 0,4 out 2024 4,6 5,0\n",
      "Serviços (%) -0,9 nov 2024 1,4 out 2024 2,9 3,2\n"
     ]
    }
   ],
   "source": [
    "for i in (tabela_xpath.find_elements(By.XPATH, \".//thead/tr | .//tbody/tr[@id]\")):\n",
    "    print(i.text)"
   ]
  },
  {
   "cell_type": "code",
   "execution_count": 174,
   "metadata": {},
   "outputs": [],
   "source": [
    "tabela_xpath_thead = tabela_xpath.find_elements(By.XPATH, \".//thead/tr\")\n",
    "tabela_xpath_tbody = tabela_xpath.find_elements(By.XPATH, \".//tbody/tr[@id]\")"
   ]
  },
  {
   "cell_type": "code",
   "execution_count": 175,
   "metadata": {},
   "outputs": [],
   "source": [
    "dados_tabela = []"
   ]
  },
  {
   "cell_type": "code",
   "execution_count": 176,
   "metadata": {},
   "outputs": [],
   "source": [
    "for i in tabela_xpath_thead:\n",
    "\n",
    "    colunas = [title.text.strip() for title in i.find_elements(By.TAG_NAME, \"th\")]\n",
    "    \n",
    "    dados_tabela.append(colunas)"
   ]
  },
  {
   "cell_type": "code",
   "execution_count": 177,
   "metadata": {},
   "outputs": [],
   "source": [
    "for i in tabela_xpath_tbody:\n",
    "\n",
    "    primeira_coluna = i.find_element(By.TAG_NAME, \"th\").text.strip()\n",
    "    demais_colunas = [data.text.strip() for data in i.find_elements(By.TAG_NAME, \"td\")]\n",
    "\n",
    "    colunas = [primeira_coluna] + demais_colunas\n",
    "\n",
    "    dados_tabela.append(colunas)"
   ]
  },
  {
   "cell_type": "code",
   "execution_count": 178,
   "metadata": {},
   "outputs": [
    {
     "data": {
      "text/plain": [
       "[['Indicadores econômicos', 'Último', 'Anterior', '12 meses', 'No ano'],\n",
       " ['IPCA (%)', '0,52 dez 2024', '0,39 nov 2024', '4,83', '4,83'],\n",
       " ['INPC (%)', '0,48 dez 2024', '0,33 nov 2024', '4,77', '4,77'],\n",
       " ['IPCA-15 (%)', '0,11 jan 2025', '0,34 dez 2024', '4,50', '0,11'],\n",
       " ['IPP (%)', '1,23 nov 2024', '0,97 out 2024', '7,59', '7,81'],\n",
       " ['Custo do m² (%)', '0,21 dez 2024', '0,24 nov 2024', '3,98', '3,98'],\n",
       " ['Variação do PIB (%)', '4,0 3º tri 2024', '3,3 2º tri 2024', '3,1', '3,3'],\n",
       " ['PIB per capita (R$)', '47.802,02 2022', '42.893,72 2021', '-', '-'],\n",
       " ['Indústria (%)', '-0,6 nov 2024', '-0,2 out 2024', '3,0', '3,2'],\n",
       " ['Comércio (%)', '-0,4 nov 2024', '0,4 out 2024', '4,6', '5,0'],\n",
       " ['Serviços (%)', '-0,9 nov 2024', '1,4 out 2024', '2,9', '3,2']]"
      ]
     },
     "execution_count": 178,
     "metadata": {},
     "output_type": "execute_result"
    }
   ],
   "source": [
    "dados_tabela"
   ]
  },
  {
   "cell_type": "markdown",
   "metadata": {},
   "source": [
    "##### Tratando os dados em dataframe"
   ]
  },
  {
   "cell_type": "code",
   "execution_count": 179,
   "metadata": {},
   "outputs": [],
   "source": [
    "df = pd.DataFrame(dados_tabela)\n",
    "\n",
    "df.columns = df.iloc[0]\n",
    "\n",
    "df = df[1:].reset_index(drop=True)"
   ]
  },
  {
   "cell_type": "code",
   "execution_count": 180,
   "metadata": {},
   "outputs": [],
   "source": [
    "df['Data Último'] = df['Último'].apply(lambda x: ' '.join((((x).split())[1:])))\n",
    "df['Último'] = df['Último'].apply(lambda x: ' '.join((((x).split())[:1])))\n",
    "\n",
    "df['Data Anterior'] = df['Anterior'].apply(lambda x: ' '.join((((x).split())[1:])))\n",
    "df['Anterior'] = df['Anterior'].apply(lambda x: ' '.join((((x).split())[:1])))"
   ]
  },
  {
   "cell_type": "code",
   "execution_count": 181,
   "metadata": {},
   "outputs": [],
   "source": [
    "df = df[['Indicadores econômicos', 'Último', 'Data Último', 'Anterior', 'Data Anterior', '12 meses', 'No ano']]"
   ]
  },
  {
   "cell_type": "code",
   "execution_count": 182,
   "metadata": {},
   "outputs": [
    {
     "name": "stdout",
     "output_type": "stream",
     "text": [
      "Tabela Dados IBGE\n"
     ]
    },
    {
     "data": {
      "text/html": [
       "<table id=\"itables_a97aee63_b509_4571_9dda_6e7f5423ecdc\" class=\"display nowrap\" data-quarto-disable-processing=\"true\" style=\"table-layout:auto;width:auto;margin:auto;caption-side:bottom\">\n",
       "<thead>\n",
       "    <tr style=\"text-align: right;\">\n",
       "      \n",
       "      <th>Indicadores econômicos</th>\n",
       "      <th>Último</th>\n",
       "      <th>Data Último</th>\n",
       "      <th>Anterior</th>\n",
       "      <th>Data Anterior</th>\n",
       "      <th>12 meses</th>\n",
       "      <th>No ano</th>\n",
       "    </tr>\n",
       "  </thead><tbody><tr>\n",
       "<td style=\"vertical-align:middle; text-align:left\">\n",
       "<a href=https://mwouts.github.io/itables/><svg class=\"main-svg\" xmlns=\"http://www.w3.org/2000/svg\" xmlns:xlink=\"http://www.w3.org/1999/xlink\"\n",
       "width=\"64\" viewBox=\"0 0 500 400\" style=\"font-family: 'Droid Sans', sans-serif;\">\n",
       "    <g style=\"fill:#d9d7fc\">\n",
       "        <path d=\"M100,400H500V357H100Z\" />\n",
       "        <path d=\"M100,300H400V257H100Z\" />\n",
       "        <path d=\"M0,200H400V157H0Z\" />\n",
       "        <path d=\"M100,100H500V57H100Z\" />\n",
       "        <path d=\"M100,350H500V307H100Z\" />\n",
       "        <path d=\"M100,250H400V207H100Z\" />\n",
       "        <path d=\"M0,150H400V107H0Z\" />\n",
       "        <path d=\"M100,50H500V7H100Z\" />\n",
       "    </g>\n",
       "    <g style=\"fill:#1a1366;stroke:#1a1366;\">\n",
       "   <rect x=\"100\" y=\"7\" width=\"400\" height=\"43\">\n",
       "    <animate\n",
       "      attributeName=\"width\"\n",
       "      values=\"0;400;0\"\n",
       "      dur=\"5s\"\n",
       "      repeatCount=\"indefinite\" />\n",
       "      <animate\n",
       "      attributeName=\"x\"\n",
       "      values=\"100;100;500\"\n",
       "      dur=\"5s\"\n",
       "      repeatCount=\"indefinite\" />\n",
       "  </rect>\n",
       "        <rect x=\"0\" y=\"107\" width=\"400\" height=\"43\">\n",
       "    <animate\n",
       "      attributeName=\"width\"\n",
       "      values=\"0;400;0\"\n",
       "      dur=\"3.5s\"\n",
       "      repeatCount=\"indefinite\" />\n",
       "    <animate\n",
       "      attributeName=\"x\"\n",
       "      values=\"0;0;400\"\n",
       "      dur=\"3.5s\"\n",
       "      repeatCount=\"indefinite\" />\n",
       "  </rect>\n",
       "        <rect x=\"100\" y=\"207\" width=\"300\" height=\"43\">\n",
       "    <animate\n",
       "      attributeName=\"width\"\n",
       "      values=\"0;300;0\"\n",
       "      dur=\"3s\"\n",
       "      repeatCount=\"indefinite\" />\n",
       "    <animate\n",
       "      attributeName=\"x\"\n",
       "      values=\"100;100;400\"\n",
       "      dur=\"3s\"\n",
       "      repeatCount=\"indefinite\" />\n",
       "  </rect>\n",
       "        <rect x=\"100\" y=\"307\" width=\"400\" height=\"43\">\n",
       "    <animate\n",
       "      attributeName=\"width\"\n",
       "      values=\"0;400;0\"\n",
       "      dur=\"4s\"\n",
       "      repeatCount=\"indefinite\" />\n",
       "      <animate\n",
       "      attributeName=\"x\"\n",
       "      values=\"100;100;500\"\n",
       "      dur=\"4s\"\n",
       "      repeatCount=\"indefinite\" />\n",
       "  </rect>\n",
       "        <g style=\"fill:transparent;stroke-width:8; stroke-linejoin:round\" rx=\"5\">\n",
       "            <g transform=\"translate(45 50) rotate(-45)\">\n",
       "                <circle r=\"33\" cx=\"0\" cy=\"0\" />\n",
       "                <rect x=\"-8\" y=\"32\" width=\"16\" height=\"30\" />\n",
       "            </g>\n",
       "\n",
       "            <g transform=\"translate(450 152)\">\n",
       "                <polyline points=\"-15,-20 -35,-20 -35,40 25,40 25,20\" />\n",
       "                <rect x=\"-15\" y=\"-40\" width=\"60\" height=\"60\" />\n",
       "            </g>\n",
       "\n",
       "            <g transform=\"translate(50 352)\">\n",
       "                <polygon points=\"-35,-5 0,-40 35,-5\" />\n",
       "                <polygon points=\"-35,10 0,45 35,10\" />\n",
       "            </g>\n",
       "\n",
       "            <g transform=\"translate(75 250)\">\n",
       "                <polyline points=\"-30,30 -60,0 -30,-30\" />\n",
       "                <polyline points=\"0,30 -30,0 0,-30\" />\n",
       "            </g>\n",
       "\n",
       "            <g transform=\"translate(425 250) rotate(180)\">\n",
       "                <polyline points=\"-30,30 -60,0 -30,-30\" />\n",
       "                <polyline points=\"0,30 -30,0 0,-30\" />\n",
       "            </g>\n",
       "        </g>\n",
       "    </g>\n",
       "</svg>\n",
       "</a>\n",
       "Loading ITables v2.2.4 from the internet...\n",
       "(need <a href=https://mwouts.github.io/itables/troubleshooting.html>help</a>?)</td>\n",
       "</tr></tbody>\n",
       "</table>\n",
       "<link href=\"https://www.unpkg.com/dt_for_itables@2.0.13/dt_bundle.css\" rel=\"stylesheet\">\n",
       "<script type=\"module\">\n",
       "    import {DataTable, jQuery as $} from 'https://www.unpkg.com/dt_for_itables@2.0.13/dt_bundle.js';\n",
       "\n",
       "    document.querySelectorAll(\"#itables_a97aee63_b509_4571_9dda_6e7f5423ecdc:not(.dataTable)\").forEach(table => {\n",
       "        if (!(table instanceof HTMLTableElement))\n",
       "            return;\n",
       "\n",
       "        // Define the table data\n",
       "        const data = [[\"IPCA (%)\", \"0,52\", \"dez 2024\", \"0,39\", \"nov 2024\", \"4,83\", \"4,83\"], [\"INPC (%)\", \"0,48\", \"dez 2024\", \"0,33\", \"nov 2024\", \"4,77\", \"4,77\"], [\"IPCA-15 (%)\", \"0,11\", \"jan 2025\", \"0,34\", \"dez 2024\", \"4,50\", \"0,11\"], [\"IPP (%)\", \"1,23\", \"nov 2024\", \"0,97\", \"out 2024\", \"7,59\", \"7,81\"], [\"Custo do m\\u00b2 (%)\", \"0,21\", \"dez 2024\", \"0,24\", \"nov 2024\", \"3,98\", \"3,98\"], [\"Varia\\u00e7\\u00e3o do PIB (%)\", \"4,0\", \"3\\u00ba tri 2024\", \"3,3\", \"2\\u00ba tri 2024\", \"3,1\", \"3,3\"], [\"PIB per capita (R$)\", \"47.802,02\", \"2022\", \"42.893,72\", \"2021\", \"-\", \"-\"], [\"Ind\\u00fastria (%)\", \"-0,6\", \"nov 2024\", \"-0,2\", \"out 2024\", \"3,0\", \"3,2\"], [\"Com\\u00e9rcio (%)\", \"-0,4\", \"nov 2024\", \"0,4\", \"out 2024\", \"4,6\", \"5,0\"], [\"Servi\\u00e7os (%)\", \"-0,9\", \"nov 2024\", \"1,4\", \"out 2024\", \"2,9\", \"3,2\"]];\n",
       "\n",
       "        // Define the dt_args\n",
       "        let dt_args = {\"layout\": {\"topStart\": null, \"topEnd\": null, \"bottomStart\": null, \"bottomEnd\": null}, \"order\": [], \"warn_on_selected_rows_not_rendered\": true};\n",
       "        dt_args[\"data\"] = data;\n",
       "\n",
       "        \n",
       "        new DataTable(table, dt_args);\n",
       "    });\n",
       "</script>\n"
      ],
      "text/plain": [
       "<IPython.core.display.HTML object>"
      ]
     },
     "metadata": {},
     "output_type": "display_data"
    }
   ],
   "source": [
    "tools.display_dataframe_to_user(name=\"Tabela Dados IBGE\", dataframe=df)"
   ]
  }
 ],
 "metadata": {
  "kernelspec": {
   "display_name": "Python 3",
   "language": "python",
   "name": "python3"
  },
  "language_info": {
   "codemirror_mode": {
    "name": "ipython",
    "version": 3
   },
   "file_extension": ".py",
   "mimetype": "text/x-python",
   "name": "python",
   "nbconvert_exporter": "python",
   "pygments_lexer": "ipython3",
   "version": "3.11.0"
  }
 },
 "nbformat": 4,
 "nbformat_minor": 2
}
