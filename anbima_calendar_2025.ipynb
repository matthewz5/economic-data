{
 "cells": [
  {
   "cell_type": "code",
   "execution_count": 55,
   "id": "a05378ae",
   "metadata": {},
   "outputs": [],
   "source": [
    "# Import necessary libraries\n",
    "\n",
    "import requests\n",
    "import re\n",
    "from bs4 import BeautifulSoup as bs\n",
    "from bs4 import XMLParsedAsHTMLWarning\n",
    "import pandas as pd\n",
    "import lxml\n",
    "import warnings\n",
    "\n",
    "# Configure to ignore specific warnings\n",
    "warnings.filterwarnings(\"ignore\", category=XMLParsedAsHTMLWarning)"
   ]
  },
  {
   "cell_type": "code",
   "execution_count": 56,
   "id": "e53eaf04",
   "metadata": {},
   "outputs": [
    {
     "name": "stdout",
     "output_type": "stream",
     "text": [
      "HTML content fetched successfully!\n"
     ]
    }
   ],
   "source": [
    "# Define the URL\n",
    "url = \"https://www.anbima.com.br/feriados/fer_nacionais/2025.asp\"\n",
    "\n",
    "# Send an HTTP GET request to the URL\n",
    "response = requests.get(url)\n",
    "\n",
    "# Check if the request was successful\n",
    "if response.status_code == 200:\n",
    "    # Parse the HTML content\n",
    "    soup = bs(response.content, \"lxml\")\n",
    "    print(\"HTML content fetched successfully!\")\n",
    "else:\n",
    "    print(f\"Failed to fetch the URL. Status code: {response.status_code}\")"
   ]
  },
  {
   "cell_type": "code",
   "execution_count": 57,
   "id": "908f4633",
   "metadata": {},
   "outputs": [],
   "source": [
    "# Find the table in the HTML\n",
    "table = soup.find(\"table\", {\"class\": \"interna\"})\n",
    "\n",
    "# Extract rows from the table\n",
    "rows = table.find_all(\"tr\")\n",
    "\n",
    "# Extract headers\n",
    "headers = [header.text.strip() for header in rows[0].find_all(\"td\", class_=\"tabela\")]\n",
    "\n",
    "# Extract data from all rows\n",
    "data = []\n",
    "for row in rows[1:]:\n",
    "    cols = row.find_all(\"td\")\n",
    "    data.append([col.text.strip() for col in cols])\n",
    "\n",
    "# Create a DataFrame\n",
    "df_feriados_anbima_2025 = pd.DataFrame(data, columns=headers)"
   ]
  },
  {
   "cell_type": "code",
   "execution_count": 58,
   "id": "35f644e2",
   "metadata": {},
   "outputs": [],
   "source": [
    "# Remove special characters from all string columns in the DataFrame\n",
    "def remove_special_characters(value):\n",
    "    if isinstance(value, str):\n",
    "        value = re.sub(r'[ãáàâä]', 'a', value)\n",
    "        value = re.sub(r'[éèêë]', 'e', value)\n",
    "        value = re.sub(r'[íìîï]', 'i', value)\n",
    "        value = re.sub(r'[õóòôö]', 'o', value)\n",
    "        value = re.sub(r'[úùûü]', 'u', value)\n",
    "        value = re.sub(r'[ç]', 'c', value)\n",
    "    return value"
   ]
  },
  {
   "cell_type": "code",
   "execution_count": null,
   "id": "6346afde",
   "metadata": {},
   "outputs": [],
   "source": [
    "# Convert the 'Data' column to datetime format and suppress warnings\n",
    "df_feriados_anbima_2025['Data'] = pd.to_datetime(df_feriados_anbima_2025['Data'], errors='coerce', dayfirst=True)"
   ]
  },
  {
   "cell_type": "code",
   "execution_count": 60,
   "id": "1eda4de6",
   "metadata": {},
   "outputs": [
    {
     "data": {
      "application/vnd.microsoft.datawrangler.viewer.v0+json": {
       "columns": [
        {
         "name": "index",
         "rawType": "int64",
         "type": "integer"
        },
        {
         "name": "Data",
         "rawType": "datetime64[ns]",
         "type": "datetime"
        },
        {
         "name": "Dia da Semana",
         "rawType": "object",
         "type": "string"
        },
        {
         "name": "Feriado",
         "rawType": "object",
         "type": "string"
        }
       ],
       "ref": "461492d8-0ee0-4cdd-a840-c6c947bc4891",
       "rows": [
        [
         "0",
         "2025-01-01 00:00:00",
         "quarta-feira",
         "Confraternização Universal"
        ],
        [
         "1",
         "2025-03-03 00:00:00",
         "segunda-feira",
         "Carnaval"
        ],
        [
         "2",
         "2025-03-04 00:00:00",
         "terça-feira",
         "Carnaval"
        ],
        [
         "3",
         "2025-04-18 00:00:00",
         "sexta-feira",
         "Paixão de Cristo"
        ],
        [
         "4",
         "2025-04-21 00:00:00",
         "segunda-feira",
         "Tiradentes"
        ],
        [
         "5",
         "2025-05-01 00:00:00",
         "quinta-feira",
         "Dia do Trabalho"
        ],
        [
         "6",
         "2025-06-19 00:00:00",
         "quinta-feira",
         "Corpus Christi"
        ],
        [
         "7",
         "2025-09-07 00:00:00",
         "domingo",
         "Independência do Brasil"
        ],
        [
         "8",
         "2025-10-12 00:00:00",
         "domingo",
         "Nossa Sr.a Aparecida - Padroeira do Brasil"
        ],
        [
         "9",
         "2025-11-02 00:00:00",
         "domingo",
         "Finados"
        ],
        [
         "10",
         "2025-11-15 00:00:00",
         "sábado",
         "Proclamação da República"
        ],
        [
         "11",
         "2025-11-20 00:00:00",
         "quinta-feira",
         "Dia Nacional de Zumbi e da Consciência Negra"
        ],
        [
         "12",
         "2025-12-25 00:00:00",
         "quinta-feira",
         "Natal"
        ]
       ],
       "shape": {
        "columns": 3,
        "rows": 13
       }
      },
      "text/html": [
       "<div>\n",
       "<style scoped>\n",
       "    .dataframe tbody tr th:only-of-type {\n",
       "        vertical-align: middle;\n",
       "    }\n",
       "\n",
       "    .dataframe tbody tr th {\n",
       "        vertical-align: top;\n",
       "    }\n",
       "\n",
       "    .dataframe thead th {\n",
       "        text-align: right;\n",
       "    }\n",
       "</style>\n",
       "<table border=\"1\" class=\"dataframe\">\n",
       "  <thead>\n",
       "    <tr style=\"text-align: right;\">\n",
       "      <th></th>\n",
       "      <th>Data</th>\n",
       "      <th>Dia da Semana</th>\n",
       "      <th>Feriado</th>\n",
       "    </tr>\n",
       "  </thead>\n",
       "  <tbody>\n",
       "    <tr>\n",
       "      <th>0</th>\n",
       "      <td>2025-01-01</td>\n",
       "      <td>quarta-feira</td>\n",
       "      <td>Confraternização Universal</td>\n",
       "    </tr>\n",
       "    <tr>\n",
       "      <th>1</th>\n",
       "      <td>2025-03-03</td>\n",
       "      <td>segunda-feira</td>\n",
       "      <td>Carnaval</td>\n",
       "    </tr>\n",
       "    <tr>\n",
       "      <th>2</th>\n",
       "      <td>2025-03-04</td>\n",
       "      <td>terça-feira</td>\n",
       "      <td>Carnaval</td>\n",
       "    </tr>\n",
       "    <tr>\n",
       "      <th>3</th>\n",
       "      <td>2025-04-18</td>\n",
       "      <td>sexta-feira</td>\n",
       "      <td>Paixão de Cristo</td>\n",
       "    </tr>\n",
       "    <tr>\n",
       "      <th>4</th>\n",
       "      <td>2025-04-21</td>\n",
       "      <td>segunda-feira</td>\n",
       "      <td>Tiradentes</td>\n",
       "    </tr>\n",
       "    <tr>\n",
       "      <th>5</th>\n",
       "      <td>2025-05-01</td>\n",
       "      <td>quinta-feira</td>\n",
       "      <td>Dia do Trabalho</td>\n",
       "    </tr>\n",
       "    <tr>\n",
       "      <th>6</th>\n",
       "      <td>2025-06-19</td>\n",
       "      <td>quinta-feira</td>\n",
       "      <td>Corpus Christi</td>\n",
       "    </tr>\n",
       "    <tr>\n",
       "      <th>7</th>\n",
       "      <td>2025-09-07</td>\n",
       "      <td>domingo</td>\n",
       "      <td>Independência do Brasil</td>\n",
       "    </tr>\n",
       "    <tr>\n",
       "      <th>8</th>\n",
       "      <td>2025-10-12</td>\n",
       "      <td>domingo</td>\n",
       "      <td>Nossa Sr.a Aparecida - Padroeira do Brasil</td>\n",
       "    </tr>\n",
       "    <tr>\n",
       "      <th>9</th>\n",
       "      <td>2025-11-02</td>\n",
       "      <td>domingo</td>\n",
       "      <td>Finados</td>\n",
       "    </tr>\n",
       "    <tr>\n",
       "      <th>10</th>\n",
       "      <td>2025-11-15</td>\n",
       "      <td>sábado</td>\n",
       "      <td>Proclamação da República</td>\n",
       "    </tr>\n",
       "    <tr>\n",
       "      <th>11</th>\n",
       "      <td>2025-11-20</td>\n",
       "      <td>quinta-feira</td>\n",
       "      <td>Dia Nacional de Zumbi e da Consciência Negra</td>\n",
       "    </tr>\n",
       "    <tr>\n",
       "      <th>12</th>\n",
       "      <td>2025-12-25</td>\n",
       "      <td>quinta-feira</td>\n",
       "      <td>Natal</td>\n",
       "    </tr>\n",
       "  </tbody>\n",
       "</table>\n",
       "</div>"
      ],
      "text/plain": [
       "         Data  Dia da Semana                                       Feriado\n",
       "0  2025-01-01   quarta-feira                    Confraternização Universal\n",
       "1  2025-03-03  segunda-feira                                      Carnaval\n",
       "2  2025-03-04    terça-feira                                      Carnaval\n",
       "3  2025-04-18    sexta-feira                              Paixão de Cristo\n",
       "4  2025-04-21  segunda-feira                                    Tiradentes\n",
       "5  2025-05-01   quinta-feira                               Dia do Trabalho\n",
       "6  2025-06-19   quinta-feira                                Corpus Christi\n",
       "7  2025-09-07        domingo                       Independência do Brasil\n",
       "8  2025-10-12        domingo    Nossa Sr.a Aparecida - Padroeira do Brasil\n",
       "9  2025-11-02        domingo                                       Finados\n",
       "10 2025-11-15         sábado                      Proclamação da República\n",
       "11 2025-11-20   quinta-feira  Dia Nacional de Zumbi e da Consciência Negra\n",
       "12 2025-12-25   quinta-feira                                         Natal"
      ]
     },
     "execution_count": 60,
     "metadata": {},
     "output_type": "execute_result"
    }
   ],
   "source": [
    "df_feriados_anbima_2025"
   ]
  },
  {
   "cell_type": "code",
   "execution_count": 61,
   "id": "2ce8af9b",
   "metadata": {},
   "outputs": [],
   "source": [
    "# Generate a DataFrame with all days of 2025\n",
    "all_days_2025 = pd.date_range(start=\"2025-01-01\", end=\"2025-12-31\", freq=\"D\").to_frame(index=False, name=\"Data\")\n",
    "\n",
    "# Add the 'Dia da Semana' column\n",
    "all_days_2025[\"Dia da Semana\"] = all_days_2025[\"Data\"].dt.day_name(locale=\"pt_BR.utf8\")\n",
    "\n",
    "# Transform the 'Dia da Semana' column to lowercase\n",
    "all_days_2025[\"Dia da Semana\"] = all_days_2025[\"Dia da Semana\"].str.lower()\n",
    "\n",
    "# Rename some days with special characters\n",
    "all_days_2025[\"Dia da Semana\"] = all_days_2025[\"Dia da Semana\"].replace({\"sã¡bado\": \"sábado\", \"terã§a-feira\": \"terça-feira\"})"
   ]
  },
  {
   "cell_type": "code",
   "execution_count": 62,
   "id": "4d459c55",
   "metadata": {},
   "outputs": [],
   "source": [
    "# Merge with the holidays DataFrame\n",
    "calendar_2025 = all_days_2025.merge(df_feriados_anbima_2025[['Data', 'Feriado']], on=\"Data\", how=\"left\")"
   ]
  },
  {
   "cell_type": "code",
   "execution_count": 63,
   "id": "7d13ced4",
   "metadata": {},
   "outputs": [],
   "source": [
    "calendar_2025 = calendar_2025.map(remove_special_characters)"
   ]
  },
  {
   "cell_type": "code",
   "execution_count": 64,
   "id": "e75e8d88",
   "metadata": {},
   "outputs": [
    {
     "data": {
      "application/vnd.microsoft.datawrangler.viewer.v0+json": {
       "columns": [
        {
         "name": "index",
         "rawType": "int64",
         "type": "integer"
        },
        {
         "name": "Data",
         "rawType": "datetime64[ns]",
         "type": "datetime"
        },
        {
         "name": "Dia da Semana",
         "rawType": "object",
         "type": "string"
        },
        {
         "name": "Feriado",
         "rawType": "object",
         "type": "unknown"
        }
       ],
       "ref": "e2cb39b5-12ce-40c6-8315-761dfbb35a7a",
       "rows": [
        [
         "0",
         "2025-01-01 00:00:00",
         "quarta-feira",
         "Confraternizacao Universal"
        ],
        [
         "1",
         "2025-01-02 00:00:00",
         "quinta-feira",
         null
        ],
        [
         "2",
         "2025-01-03 00:00:00",
         "sexta-feira",
         null
        ],
        [
         "3",
         "2025-01-04 00:00:00",
         "sabado",
         null
        ],
        [
         "4",
         "2025-01-05 00:00:00",
         "domingo",
         null
        ],
        [
         "5",
         "2025-01-06 00:00:00",
         "segunda-feira",
         null
        ],
        [
         "6",
         "2025-01-07 00:00:00",
         "terca-feira",
         null
        ],
        [
         "7",
         "2025-01-08 00:00:00",
         "quarta-feira",
         null
        ],
        [
         "8",
         "2025-01-09 00:00:00",
         "quinta-feira",
         null
        ],
        [
         "9",
         "2025-01-10 00:00:00",
         "sexta-feira",
         null
        ],
        [
         "10",
         "2025-01-11 00:00:00",
         "sabado",
         null
        ],
        [
         "11",
         "2025-01-12 00:00:00",
         "domingo",
         null
        ],
        [
         "12",
         "2025-01-13 00:00:00",
         "segunda-feira",
         null
        ],
        [
         "13",
         "2025-01-14 00:00:00",
         "terca-feira",
         null
        ],
        [
         "14",
         "2025-01-15 00:00:00",
         "quarta-feira",
         null
        ],
        [
         "15",
         "2025-01-16 00:00:00",
         "quinta-feira",
         null
        ],
        [
         "16",
         "2025-01-17 00:00:00",
         "sexta-feira",
         null
        ],
        [
         "17",
         "2025-01-18 00:00:00",
         "sabado",
         null
        ],
        [
         "18",
         "2025-01-19 00:00:00",
         "domingo",
         null
        ],
        [
         "19",
         "2025-01-20 00:00:00",
         "segunda-feira",
         null
        ],
        [
         "20",
         "2025-01-21 00:00:00",
         "terca-feira",
         null
        ],
        [
         "21",
         "2025-01-22 00:00:00",
         "quarta-feira",
         null
        ],
        [
         "22",
         "2025-01-23 00:00:00",
         "quinta-feira",
         null
        ],
        [
         "23",
         "2025-01-24 00:00:00",
         "sexta-feira",
         null
        ],
        [
         "24",
         "2025-01-25 00:00:00",
         "sabado",
         null
        ],
        [
         "25",
         "2025-01-26 00:00:00",
         "domingo",
         null
        ],
        [
         "26",
         "2025-01-27 00:00:00",
         "segunda-feira",
         null
        ],
        [
         "27",
         "2025-01-28 00:00:00",
         "terca-feira",
         null
        ],
        [
         "28",
         "2025-01-29 00:00:00",
         "quarta-feira",
         null
        ],
        [
         "29",
         "2025-01-30 00:00:00",
         "quinta-feira",
         null
        ],
        [
         "30",
         "2025-01-31 00:00:00",
         "sexta-feira",
         null
        ],
        [
         "31",
         "2025-02-01 00:00:00",
         "sabado",
         null
        ],
        [
         "32",
         "2025-02-02 00:00:00",
         "domingo",
         null
        ],
        [
         "33",
         "2025-02-03 00:00:00",
         "segunda-feira",
         null
        ],
        [
         "34",
         "2025-02-04 00:00:00",
         "terca-feira",
         null
        ],
        [
         "35",
         "2025-02-05 00:00:00",
         "quarta-feira",
         null
        ],
        [
         "36",
         "2025-02-06 00:00:00",
         "quinta-feira",
         null
        ],
        [
         "37",
         "2025-02-07 00:00:00",
         "sexta-feira",
         null
        ],
        [
         "38",
         "2025-02-08 00:00:00",
         "sabado",
         null
        ],
        [
         "39",
         "2025-02-09 00:00:00",
         "domingo",
         null
        ],
        [
         "40",
         "2025-02-10 00:00:00",
         "segunda-feira",
         null
        ],
        [
         "41",
         "2025-02-11 00:00:00",
         "terca-feira",
         null
        ],
        [
         "42",
         "2025-02-12 00:00:00",
         "quarta-feira",
         null
        ],
        [
         "43",
         "2025-02-13 00:00:00",
         "quinta-feira",
         null
        ],
        [
         "44",
         "2025-02-14 00:00:00",
         "sexta-feira",
         null
        ],
        [
         "45",
         "2025-02-15 00:00:00",
         "sabado",
         null
        ],
        [
         "46",
         "2025-02-16 00:00:00",
         "domingo",
         null
        ],
        [
         "47",
         "2025-02-17 00:00:00",
         "segunda-feira",
         null
        ],
        [
         "48",
         "2025-02-18 00:00:00",
         "terca-feira",
         null
        ],
        [
         "49",
         "2025-02-19 00:00:00",
         "quarta-feira",
         null
        ]
       ],
       "shape": {
        "columns": 3,
        "rows": 365
       }
      },
      "text/html": [
       "<div>\n",
       "<style scoped>\n",
       "    .dataframe tbody tr th:only-of-type {\n",
       "        vertical-align: middle;\n",
       "    }\n",
       "\n",
       "    .dataframe tbody tr th {\n",
       "        vertical-align: top;\n",
       "    }\n",
       "\n",
       "    .dataframe thead th {\n",
       "        text-align: right;\n",
       "    }\n",
       "</style>\n",
       "<table border=\"1\" class=\"dataframe\">\n",
       "  <thead>\n",
       "    <tr style=\"text-align: right;\">\n",
       "      <th></th>\n",
       "      <th>Data</th>\n",
       "      <th>Dia da Semana</th>\n",
       "      <th>Feriado</th>\n",
       "    </tr>\n",
       "  </thead>\n",
       "  <tbody>\n",
       "    <tr>\n",
       "      <th>0</th>\n",
       "      <td>2025-01-01</td>\n",
       "      <td>quarta-feira</td>\n",
       "      <td>Confraternizacao Universal</td>\n",
       "    </tr>\n",
       "    <tr>\n",
       "      <th>1</th>\n",
       "      <td>2025-01-02</td>\n",
       "      <td>quinta-feira</td>\n",
       "      <td>NaN</td>\n",
       "    </tr>\n",
       "    <tr>\n",
       "      <th>2</th>\n",
       "      <td>2025-01-03</td>\n",
       "      <td>sexta-feira</td>\n",
       "      <td>NaN</td>\n",
       "    </tr>\n",
       "    <tr>\n",
       "      <th>3</th>\n",
       "      <td>2025-01-04</td>\n",
       "      <td>sabado</td>\n",
       "      <td>NaN</td>\n",
       "    </tr>\n",
       "    <tr>\n",
       "      <th>4</th>\n",
       "      <td>2025-01-05</td>\n",
       "      <td>domingo</td>\n",
       "      <td>NaN</td>\n",
       "    </tr>\n",
       "    <tr>\n",
       "      <th>...</th>\n",
       "      <td>...</td>\n",
       "      <td>...</td>\n",
       "      <td>...</td>\n",
       "    </tr>\n",
       "    <tr>\n",
       "      <th>360</th>\n",
       "      <td>2025-12-27</td>\n",
       "      <td>sabado</td>\n",
       "      <td>NaN</td>\n",
       "    </tr>\n",
       "    <tr>\n",
       "      <th>361</th>\n",
       "      <td>2025-12-28</td>\n",
       "      <td>domingo</td>\n",
       "      <td>NaN</td>\n",
       "    </tr>\n",
       "    <tr>\n",
       "      <th>362</th>\n",
       "      <td>2025-12-29</td>\n",
       "      <td>segunda-feira</td>\n",
       "      <td>NaN</td>\n",
       "    </tr>\n",
       "    <tr>\n",
       "      <th>363</th>\n",
       "      <td>2025-12-30</td>\n",
       "      <td>terca-feira</td>\n",
       "      <td>NaN</td>\n",
       "    </tr>\n",
       "    <tr>\n",
       "      <th>364</th>\n",
       "      <td>2025-12-31</td>\n",
       "      <td>quarta-feira</td>\n",
       "      <td>NaN</td>\n",
       "    </tr>\n",
       "  </tbody>\n",
       "</table>\n",
       "<p>365 rows × 3 columns</p>\n",
       "</div>"
      ],
      "text/plain": [
       "          Data  Dia da Semana                     Feriado\n",
       "0   2025-01-01   quarta-feira  Confraternizacao Universal\n",
       "1   2025-01-02   quinta-feira                         NaN\n",
       "2   2025-01-03    sexta-feira                         NaN\n",
       "3   2025-01-04         sabado                         NaN\n",
       "4   2025-01-05        domingo                         NaN\n",
       "..         ...            ...                         ...\n",
       "360 2025-12-27         sabado                         NaN\n",
       "361 2025-12-28        domingo                         NaN\n",
       "362 2025-12-29  segunda-feira                         NaN\n",
       "363 2025-12-30    terca-feira                         NaN\n",
       "364 2025-12-31   quarta-feira                         NaN\n",
       "\n",
       "[365 rows x 3 columns]"
      ]
     },
     "execution_count": 64,
     "metadata": {},
     "output_type": "execute_result"
    }
   ],
   "source": [
    "calendar_2025"
   ]
  }
 ],
 "metadata": {
  "kernelspec": {
   "display_name": "Python 3",
   "language": "python",
   "name": "python3"
  },
  "language_info": {
   "codemirror_mode": {
    "name": "ipython",
    "version": 3
   },
   "file_extension": ".py",
   "mimetype": "text/x-python",
   "name": "python",
   "nbconvert_exporter": "python",
   "pygments_lexer": "ipython3",
   "version": "3.12.5"
  }
 },
 "nbformat": 4,
 "nbformat_minor": 5
}
